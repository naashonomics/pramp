{
 "cells": [
  {
   "cell_type": "code",
   "execution_count": 13,
   "metadata": {},
   "outputs": [
    {
     "name": "stdout",
     "output_type": "stream",
     "text": [
      "[1, 8, 80, 160]\n",
      "[80, 64, 320, 160]\n"
     ]
    }
   ],
   "source": [
    "\"\"\"\n",
    "Array of Array Products\n",
    "Given an array of integers arr, you’re asked to calculate for each index i the product of all integers except the integer at that index (i.e. except arr[i]). Implement a function arrayOfArrayProducts that takes an array of integers and returns an array of the products.\n",
    "\n",
    "Solve without using division and analyze your solution’s time and space complexities.\n",
    "\n",
    "Examples:\n",
    "\n",
    "input:  arr = [8, 10, 2]\n",
    "output: [20, 16, 80] # by calculating: [10*2, 8*2, 8*10]\n",
    "\n",
    "input:  arr = [2, 7, 3, 4]\n",
    "output: [84, 24, 56, 42] # by calculating: [7*3*4, 2*3*4, 2*7*4, 2*7*3]\n",
    "Constraints:\n",
    "\n",
    "[time limit] 5000ms\n",
    "\n",
    "[input] array.integer arr\n",
    "\n",
    "0 ≤ arr.length ≤ 20\n",
    "[output] array.integer\n",
    "\"\"\"\n",
    "#Solve it without division and in O(n).\n",
    "#TC O(n) & SC O(1)\n",
    "\n",
    "\n",
    "def array_of_array_products(arr):\n",
    "  #Time:  O(n)\n",
    "  #Space Complexity O(!)  \n",
    "  if not arr or len(arr) == 1:\n",
    "            return []\n",
    "  \n",
    "  left_product = [1 for _ in xrange(len(arr))]\n",
    "  for i in xrange(1, len(arr)):\n",
    "    left_product[i] = left_product[i - 1] * arr[i - 1]\n",
    "  \n",
    "  right_product = 1\n",
    "  for i in xrange(len(arr) - 2, -1, -1):\n",
    "    right_product *= arr[i + 1]\n",
    "    left_product[i] = left_product[i] * right_product\n",
    "  return left_product\n",
    "\n",
    "arr=[8, 10, 2,4]\n",
    "print(array_of_array_products(arr))"
   ]
  },
  {
   "cell_type": "code",
   "execution_count": null,
   "metadata": {},
   "outputs": [],
   "source": []
  }
 ],
 "metadata": {
  "kernelspec": {
   "display_name": "Python 2",
   "language": "python",
   "name": "python2"
  },
  "language_info": {
   "codemirror_mode": {
    "name": "ipython",
    "version": 2
   },
   "file_extension": ".py",
   "mimetype": "text/x-python",
   "name": "python",
   "nbconvert_exporter": "python",
   "pygments_lexer": "ipython2",
   "version": "2.7.14"
  }
 },
 "nbformat": 4,
 "nbformat_minor": 2
}

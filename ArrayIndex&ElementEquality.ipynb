{
 "cells": [
  {
   "cell_type": "code",
   "execution_count": 1,
   "metadata": {},
   "outputs": [
    {
     "data": {
      "text/plain": [
       "'\\nArray Index & Element Equality\\nThe naive solution is to iterate over all the values in the input array and return an index i for which the condition arr[i] == i is met. This takes a linear, O(N), time complexity.\\n\\nTo do better, we should recognize that the sequence of i (array indices) and the sequence of arr[i] (array values) are both strictly monotonically increasing sequences. If we subtract i from both sides of the equation arr[i] = i we get arr[i] - i = 0.\\n\\nWhile we can use this to define another array diffArr where diffArr[i] = arr[i] - i and perform a Binary Search for 0 in diffArr, it\\xe2\\x80\\x99s unnecessary. Instead, we can simply modify the binary search condition to arr[i] - i == 0 (instead of the condition diffArr[i] == 0).\\n\\nSo why is it important for the search condition to form a monotonically increasing sequence?\\n\\nIt\\xe2\\x80\\x99s important because otherwise there is no guarantee that the resulting sequence is sorted and binary search works only on sorted sequences. Recall that if an array consists of monotonically increasing values, then it\\xe2\\x80\\x99s sorted by definition (in an ascending order).\\n\\nTo make sure we found the first element that satisfies arr[i] - i == 0, if in the binary search process we find an element that satisfies arr[i] - i == 0, we proceed to check if its the first element in the array, or that the element before it does not satisfy the condition. If not - we continue with the binary search, since this is not the first element that satisfies the condition.\\n\\nWe can now proceed to implementing the algorithm.\\n\\nPseudocode:\\n\\nfunction indexEqualsValueSearch(arr):\\n    start = 0\\n    end = arr.length - 1\\n\\n    while (start <= end):\\n        i = round((start+end)/2)\\n        if (arr[i] - i < 0):\\n            start = i+1\\n        else if (arr[i] - i == 0) and ((i == 0) or (arr[i-1] - (i-1) < 0)):\\n            return i\\n        else:\\n            end = i-1\\n\\n    return -1\\nTime Complexity: O(log(N)) since we use a binary search where the input size is reduced in half on each step. Calculating arr[i] - i as the condition instead of arr[i] is done in constant time and has no impact on the asymptotic time complexity.\\n\\nSpace Complexity: it\\xe2\\x80\\x99s O(1) since we\\xe2\\x80\\x99re only a constant amount of memory (i.e. the variables start and end).\\n\\n\\n'"
      ]
     },
     "execution_count": 1,
     "metadata": {},
     "output_type": "execute_result"
    }
   ],
   "source": [
    "\"\"\"\n",
    "Array Index & Element Equality\n",
    "Given a sorted array arr of distinct integers, write a function indexEqualsValueSearch that returns the lowest index i for which arr[i] == i. Return -1 if there is no such index. Analyze the time and space complexities of your solution and explain its correctness.\n",
    "\n",
    "Examples:\n",
    "\n",
    "input: arr = [-8,0,2,5]\n",
    "output: 2 # since arr[2] == 2\n",
    "\n",
    "input: arr = [-1,0,3,6]\n",
    "output: -1 # since no index in arr satisfies arr[i] == i.\n",
    "Constraints:\n",
    "\n",
    "[time limit] 5000ms\n",
    "\n",
    "[input] array.integer arr\n",
    "\n",
    "1 ≤ arr.length ≤ 100\n",
    "[output] integer\n",
    "\"\"\"\n",
    "\"\"\"\n",
    "Solution\n",
    "\n",
    "\n",
    "\n",
    "def indexEqualsValueSearch(arr):\n",
    "  low=0\n",
    "  high=len(arr)\n",
    "  print(search(arr,low,high))\n",
    " \n",
    "    \n",
    "  \n",
    "\n",
    "def search(arr,low,high):\n",
    "  if high is None:\n",
    "    high=len(a)\n",
    "  while(low<=high):\n",
    "    mid=(int)((low+high)/2)\n",
    "    if (mid==arr[mid]):\n",
    "      return mid\n",
    "    elif(arr[mid]<mid):\n",
    "      low=mid+1\n",
    "    elif(arr[mid]>mid):\n",
    "      high=mid-1\n",
    "  return -1\n",
    "      \n",
    "arr = [-1,0,3,6]\n",
    "indexEqualsValueSearch(arr)\n",
    "  \n",
    "\n",
    "\"\"\"\n",
    "\n",
    "\"\"\"\n",
    "Array Index & Element Equality\n",
    "The naive solution is to iterate over all the values in the input array and return an index i for which the condition arr[i] == i is met. This takes a linear, O(N), time complexity.\n",
    "\n",
    "To do better, we should recognize that the sequence of i (array indices) and the sequence of arr[i] (array values) are both strictly monotonically increasing sequences. If we subtract i from both sides of the equation arr[i] = i we get arr[i] - i = 0.\n",
    "\n",
    "While we can use this to define another array diffArr where diffArr[i] = arr[i] - i and perform a Binary Search for 0 in diffArr, it’s unnecessary. Instead, we can simply modify the binary search condition to arr[i] - i == 0 (instead of the condition diffArr[i] == 0).\n",
    "\n",
    "So why is it important for the search condition to form a monotonically increasing sequence?\n",
    "\n",
    "It’s important because otherwise there is no guarantee that the resulting sequence is sorted and binary search works only on sorted sequences. Recall that if an array consists of monotonically increasing values, then it’s sorted by definition (in an ascending order).\n",
    "\n",
    "To make sure we found the first element that satisfies arr[i] - i == 0, if in the binary search process we find an element that satisfies arr[i] - i == 0, we proceed to check if its the first element in the array, or that the element before it does not satisfy the condition. If not - we continue with the binary search, since this is not the first element that satisfies the condition.\n",
    "\n",
    "We can now proceed to implementing the algorithm.\n",
    "\n",
    "Pseudocode:\n",
    "\n",
    "function indexEqualsValueSearch(arr):\n",
    "    start = 0\n",
    "    end = arr.length - 1\n",
    "\n",
    "    while (start <= end):\n",
    "        i = round((start+end)/2)\n",
    "        if (arr[i] - i < 0):\n",
    "            start = i+1\n",
    "        else if (arr[i] - i == 0) and ((i == 0) or (arr[i-1] - (i-1) < 0)):\n",
    "            return i\n",
    "        else:\n",
    "            end = i-1\n",
    "\n",
    "    return -1\n",
    "Time Complexity: O(log(N)) since we use a binary search where the input size is reduced in half on each step. Calculating arr[i] - i as the condition instead of arr[i] is done in constant time and has no impact on the asymptotic time complexity.\n",
    "\n",
    "Space Complexity: it’s O(1) since we’re only a constant amount of memory (i.e. the variables start and end).\n",
    "\n",
    "\n",
    "\"\"\"\n"
   ]
  },
  {
   "cell_type": "code",
   "execution_count": 2,
   "metadata": {},
   "outputs": [],
   "source": [
    "def index_equals_value_search_binary_search(arr):\n",
    "  st = 0\n",
    "  ed = len(arr)\n",
    "  \n",
    "  while st<=ed:\n",
    "    mid = (st+ed)/2\n",
    "    if(arr[mid] == mid):      \n",
    "      if(arr[mid-1] == (mid -1)):\n",
    "        ed = mid - 1        \n",
    "      else:\n",
    "        return mid\n",
    "    elif (mid > arr[mid]):\n",
    "      st = mid + 1 ## Going right\n",
    "    else: \n",
    "      ed = mid - 1 ## Going left\n",
    "        \n",
    "  return -1  \n",
    "\n",
    "def index_equals_value_search_array(arr):\n",
    "  for i in range(len(arr)):\n",
    "    if (arr[i] == i):\n",
    "      return i    \n",
    "  return -1\n",
    "\n",
    "def search(arr,low,high):\n",
    "  if high is None:\n",
    "    high=len(a)\n",
    "  while(low<=high):\n",
    "    mid=(int)((low+high)/2)\n",
    "    if (mid==arr[mid]):\n",
    "      return mid\n",
    "    elif(arr[mid]<mid):\n",
    "      low=mid+1\n",
    "    elif(arr[mid]>mid):\n",
    "      high=mid-1\n",
    "  return -1\n",
    "      \n"
   ]
  },
  {
   "cell_type": "code",
   "execution_count": 3,
   "metadata": {},
   "outputs": [
    {
     "data": {
      "text/plain": [
       "-1"
      ]
     },
     "execution_count": 3,
     "metadata": {},
     "output_type": "execute_result"
    }
   ],
   "source": [
    "arr = [-1,0,3,6]\n",
    "index_equals_value_search_array(arr)\n",
    "index_equals_value_search_binary_search(arr)"
   ]
  },
  {
   "cell_type": "code",
   "execution_count": 4,
   "metadata": {},
   "outputs": [
    {
     "data": {
      "text/plain": [
       "2"
      ]
     },
     "execution_count": 4,
     "metadata": {},
     "output_type": "execute_result"
    }
   ],
   "source": [
    "arr = [-1,0,2,6]\n",
    "index_equals_value_search_array(arr)\n",
    "index_equals_value_search_binary_search(arr)"
   ]
  },
  {
   "cell_type": "code",
   "execution_count": null,
   "metadata": {},
   "outputs": [],
   "source": []
  }
 ],
 "metadata": {
  "kernelspec": {
   "display_name": "Anaconda 2",
   "language": "python",
   "name": "python2"
  },
  "language_info": {
   "codemirror_mode": {
    "name": "ipython",
    "version": 2
   },
   "file_extension": ".py",
   "mimetype": "text/x-python",
   "name": "python",
   "nbconvert_exporter": "python",
   "pygments_lexer": "ipython2",
   "version": "2.7.15"
  }
 },
 "nbformat": 4,
 "nbformat_minor": 2
}

{
 "cells": [
  {
   "cell_type": "code",
   "execution_count": null,
   "metadata": {},
   "outputs": [],
   "source": [
    "\"\"\"\n",
    "\n",
    "Award Budget Cuts\n",
    "The awards committee of your alma mater (i.e. your college/university) asked for your assistance with a budget allocation problem they’re facing. Originally, the committee planned to give N research grants this year. However, due to spending cutbacks, the budget was reduced to newBudget dollars and now they need to reallocate the grants. The committee made a decision that they’d like to impact as few grant recipients as possible by applying a maximum cap on all grants. Every grant initially planned to be higher than cap will now be exactly cap dollars. Grants less or equal to cap, obviously, won’t be impacted.\n",
    "\n",
    "Given an array grantsArray of the original grants and the reduced budget newBudget, write a function findGrantsCap that finds in the most efficient manner a cap such that the least number of recipients is impacted and that the new budget constraint is met (i.e. sum of the N reallocated grants equals to newBudget).\n",
    "\n",
    "Analyze the time and space complexities of your solution.\n",
    "\n",
    "Example:\n",
    "\n",
    "input:  grantsArray = [2, 100, 50, 120, 1000], newBudget = 190\n",
    "\n",
    "output: 47 # and given this cap the new grants array would be\n",
    "           # [2, 47, 47, 47, 47]. Notice that the sum of the\n",
    "           # new grants is indeed 190\n",
    "Constraints:\n",
    "\n",
    "[time limit] 5000ms\n",
    "\n",
    "[input] array.double grantsArray\n",
    "\n",
    "0 ≤ grantsArray.length ≤ 20\n",
    "0 ≤ grantsArray[i]\n",
    "[input] double newBudget\n",
    "\n",
    "[output] double\n",
    "\n",
    "\"\"\""
   ]
  },
  {
   "cell_type": "code",
   "execution_count": 4,
   "metadata": {},
   "outputs": [
    {
     "name": "stdout",
     "output_type": "stream",
     "text": [
      "47.0\n",
      "1.5\n"
     ]
    }
   ],
   "source": [
    "def find_grants_cap(grantsArray, newBudget):\n",
    "  grantsArray.sort(reverse=True)\n",
    "  total_need=sum(grantsArray)\n",
    "  shortfall=total_need - newBudget \n",
    "  max_cap=0\n",
    "  if shortfall <=0:\n",
    "    return 0\n",
    "  for i in range(0,len(grantsArray)):\n",
    "    if i != len(grantsArray)-1:\n",
    "      shortfall -= (i+1) * (grantsArray[i] - grantsArray[i+1]) \n",
    "      if shortfall <= 0:\n",
    "        max_cap= grantsArray[i+1] +((float)(shortfall*-1) /(float) (i+1))\n",
    "        break\n",
    "    else:\n",
    "      shortfall -= (i+1) * (grantsArray[i] +0) \n",
    "      max_cap= ((float)(shortfall*-1) /(float) (i+1))\n",
    "  return (max_cap)\n",
    "      \n",
    "if __name__ == \"__main__\":\n",
    "      grantsArray = [2, 100, 50, 120, 1000]\n",
    "      newBudget = 190\n",
    "      max_cap=find_grants_cap(grantsArray, newBudget)\n",
    "      print(max_cap)\n",
    "      grantsArray = [2, 4]\n",
    "      newBudget = 3\n",
    "      max_cap=find_grants_cap(grantsArray, newBudget)\n",
    "      print(max_cap)\n"
   ]
  },
  {
   "cell_type": "code",
   "execution_count": 5,
   "metadata": {},
   "outputs": [
    {
     "name": "stdout",
     "output_type": "stream",
     "text": [
      "47.0\n",
      "1.5\n"
     ]
    }
   ],
   "source": [
    "def award_budget(p_budget, b):\n",
    "    p_budget.sort()\n",
    "    current_budget = sum(p_budget)\n",
    "    min_change = 0\n",
    "    max_cap = 0\n",
    "    for i in range(len(p_budget) - 1, -1, -1):\n",
    "        if current_budget > b:\n",
    "            leftover = b - current_budget\n",
    "            leftover /= min_change\n",
    "            if leftover > p_budget[i]:\n",
    "                return leftover\n",
    "        current_budget -= p_budget[i]\n",
    "        min_change += 1\n",
    "    return max_cap\n",
    "\n",
    "if __name__ == \"__main__\":\n",
    "      grantsArray = [2, 100, 50, 120, 1000]\n",
    "      newBudget = 190\n",
    "      max_cap=find_grants_cap(grantsArray, newBudget)\n",
    "      print(max_cap)\n",
    "      grantsArray = [2, 4]\n",
    "      newBudget = 3\n",
    "      max_cap=find_grants_cap(grantsArray, newBudget)\n",
    "      print(max_cap)\n"
   ]
  },
  {
   "cell_type": "code",
   "execution_count": null,
   "metadata": {},
   "outputs": [],
   "source": []
  }
 ],
 "metadata": {
  "kernelspec": {
   "display_name": "Anaconda 3",
   "language": "python",
   "name": "python3"
  },
  "language_info": {
   "codemirror_mode": {
    "name": "ipython",
    "version": 3
   },
   "file_extension": ".py",
   "mimetype": "text/x-python",
   "name": "python",
   "nbconvert_exporter": "python",
   "pygments_lexer": "ipython3",
   "version": "3.7.3"
  }
 },
 "nbformat": 4,
 "nbformat_minor": 2
}
